{
 "cells": [
  {
   "cell_type": "code",
   "execution_count": 3,
   "id": "f3cd82da-f8c4-4c85-a023-7b9a24abe3c3",
   "metadata": {},
   "outputs": [
    {
     "name": "stdout",
     "output_type": "stream",
     "text": [
      "Сравнение времени выполнения:\n",
      "Синхронный подход: 0.39 секунд\n",
      "Асинхронный подход: 0.19 секунд\n",
      "Разница (синхронный - aсинхронный): 0.20 секунд\n",
      "\n",
      "{'city': 'Berlin', 'current_temp': 4.11, 'mean_temp': 0.02679473753631254, 'std_temp': 5.020799390879272, 'normal_range': (-10.014804044222233, 10.068393519294856), 'is_normal': True}\n",
      "{'city': 'Berlin', 'current_temp': 4.11, 'mean_temp': 0.02679473753631254, 'std_temp': 5.020799390879272, 'normal_range': (-10.014804044222233, 10.068393519294856), 'is_normal': True}\n"
     ]
    }
   ],
   "source": [
    "!python ../api_utils/api_download.py"
   ]
  }
 ],
 "metadata": {
  "kernelspec": {
   "display_name": "Python 3 (ipykernel)",
   "language": "python",
   "name": "python3"
  },
  "language_info": {
   "codemirror_mode": {
    "name": "ipython",
    "version": 3
   },
   "file_extension": ".py",
   "mimetype": "text/x-python",
   "name": "python",
   "nbconvert_exporter": "python",
   "pygments_lexer": "ipython3",
   "version": "3.12.0"
  }
 },
 "nbformat": 4,
 "nbformat_minor": 5
}
